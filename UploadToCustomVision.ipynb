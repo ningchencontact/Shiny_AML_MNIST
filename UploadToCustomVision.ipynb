{
 "cells": [
  {
   "cell_type": "markdown",
   "metadata": {},
   "source": [
    "If you have an image file:\n",
    "https://shuclasscustomvision.cognitiveservices.azure.com/customvision/v3.0/Prediction/6de7e2c3-e4d2-4b93-83e4-aa32f8aa87f9/classify/iterations/Iteration1/image\n",
    "Set Prediction-Key Header to : 58f227639456446c83d1b49c85089b2f\n",
    "Set Content-Type Header to : application/octet-stream\n",
    "Set Body to : <image file>\n",
    "Projectid:b027bd95-135a-4b3e-9320-74cede556d1c\n",
    "publishedName:Iteration1\n",
    "application:application/octet-stream"
   ]
  },
  {
   "cell_type": "code",
   "execution_count": 5,
   "metadata": {},
   "outputs": [],
   "source": [
    "import http.client, urllib.request, urllib.parse, urllib.error, base64"
   ]
  },
  {
   "cell_type": "code",
   "execution_count": 8,
   "metadata": {},
   "outputs": [
    {
     "name": "stdout",
     "output_type": "stream",
     "text": [
      "Collecting opencv-python\n",
      "\u001b[?25l  Downloading https://files.pythonhosted.org/packages/bf/d8/2422f90a596fc90d3027415121221f7cfb2513af8fd2a66203864941fabf/opencv_python-4.1.2.30-cp37-cp37m-macosx_10_9_x86_64.whl (45.2MB)\n",
      "\u001b[K     |████████████████████████████████| 45.2MB 404kB/s eta 0:00:012     |████████████████████████        | 33.8MB 6.4MB/s eta 0:00:02\n",
      "\u001b[?25hRequirement already satisfied: numpy>=1.14.5 in /opt/anaconda3/lib/python3.7/site-packages (from opencv-python) (1.17.2)\n",
      "Installing collected packages: opencv-python\n",
      "Successfully installed opencv-python-4.1.2.30\n",
      "Note: you may need to restart the kernel to use updated packages.\n"
     ]
    }
   ],
   "source": [
    "# pip install opencv-python"
   ]
  },
  {
   "cell_type": "code",
   "execution_count": 1,
   "metadata": {},
   "outputs": [],
   "source": [
    "# import numpy as np\n",
    "# import cv2"
   ]
  },
  {
   "cell_type": "markdown",
   "metadata": {},
   "source": [
    "# Image File"
   ]
  },
  {
   "cell_type": "code",
   "execution_count": 87,
   "metadata": {},
   "outputs": [],
   "source": [
    "api_url=\"https://shuclasscustomvision.cognitiveservices.azure.com/customvision/v3.0/Prediction/6de7e2c3-e4d2-4b93-83e4-aa32f8aa87f9/classify/iterations/Iteration1/image\"\n",
    "params=urllib.parse.urlencode({\n",
    "                        # Request parameters\n",
    "                        'application':'{string}',\n",
    "                        })\n",
    "headers={\n",
    "                            # Request headers\n",
    "                            'Prediction-Key': '58f227639456446c83d1b49c85089b2f',\n",
    "                            'Content-Type': 'application/octet-stream',\n",
    "                            'Ocp-Apim-Subscription-Key': 'b027bd95-135a-4b3e-9320-74cede556d1c',\n",
    "                        }"
   ]
  },
  {
   "cell_type": "code",
   "execution_count": 70,
   "metadata": {},
   "outputs": [],
   "source": [
    "import urllib, json\n",
    "import requests\n",
    "img_filename='../0_9PNG/8_202.jpg'\n",
    "with open(img_filename, 'rb',) as f:\n",
    "    img_data = f.read()"
   ]
  },
  {
   "cell_type": "code",
   "execution_count": 88,
   "metadata": {},
   "outputs": [
    {
     "name": "stdout",
     "output_type": "stream",
     "text": [
      "{'id': '27d7f164-3bbc-4949-b662-c85da240535d', 'project': '6de7e2c3-e4d2-4b93-83e4-aa32f8aa87f9', 'iteration': '3aaf23a5-0e89-428d-bd1d-637b6030e321', 'created': '2020-01-29T09:22:24.322Z', 'predictions': [{'probability': 0.951216638, 'tagId': 'b065b2cc-c325-41ec-8612-5431284c3c7b', 'tagName': '0'}, {'probability': 0.0487832054, 'tagId': '30521f9e-0eb5-43de-af7c-98de1412e0de', 'tagName': '2'}, {'probability': 1.82328833e-07, 'tagId': '09c96622-b909-47eb-bb9a-fd978db9bf91', 'tagName': '1'}]}\n"
     ]
    }
   ],
   "source": [
    "r = requests.post(api_url,\n",
    "                  params=params,\n",
    "                  headers=headers,\n",
    "                  data=img_data)\n",
    "\n",
    "print (r.json())\n",
    "    "
   ]
  },
  {
   "cell_type": "markdown",
   "metadata": {},
   "source": [
    "# Image Url "
   ]
  },
  {
   "cell_type": "markdown",
   "metadata": {},
   "source": [
    "If you have an image URL:\n",
    "https://shuclasscustomvision.cognitiveservices.azure.com/customvision/v3.0/Prediction/6de7e2c3-e4d2-4b93-83e4-aa32f8aa87f9/classify/iterations/Iteration1/url\n",
    "Set Prediction-Key Header to : 58f227639456446c83d1b49c85089b2f\n",
    "Set Content-Type Header to : application/json\n",
    "Set Body to : {\"Url\": \"https://example.com/image.png\"}"
   ]
  },
  {
   "cell_type": "code",
   "execution_count": 72,
   "metadata": {},
   "outputs": [
    {
     "name": "stdout",
     "output_type": "stream",
     "text": [
      "b'{\"id\":\"86daa082-9cf6-41d3-a4e6-ae58b608c051\",\"project\":\"6de7e2c3-e4d2-4b93-83e4-aa32f8aa87f9\",\"iteration\":\"3aaf23a5-0e89-428d-bd1d-637b6030e321\",\"created\":\"2020-01-29T08:05:26.715Z\",\"predictions\":[{\"probability\":0.999962,\"tagId\":\"09c96622-b909-47eb-bb9a-fd978db9bf91\",\"tagName\":\"1\"},{\"probability\":3.803413E-05,\"tagId\":\"b065b2cc-c325-41ec-8612-5431284c3c7b\",\"tagName\":\"0\"},{\"probability\":3.19081437E-08,\"tagId\":\"30521f9e-0eb5-43de-af7c-98de1412e0de\",\"tagName\":\"2\"}]}'\n"
     ]
    }
   ],
   "source": [
    "#image url\n",
    "import http.client, urllib.request, urllib.parse, urllib.error, base64\n",
    "\n",
    "headers = {\n",
    "    # Request headers\n",
    "    'Prediction-Key': '58f227639456446c83d1b49c85089b2f',\n",
    "    'Content-Type': 'application/json',\n",
    "    'Prediction-key': 'b027bd95-135a-4b3e-9320-74cede556d1c',\n",
    "}\n",
    "\n",
    "params = urllib.parse.urlencode({\n",
    "    # Request parameters\n",
    "    'application': '{string}',\n",
    "})\n",
    "\n",
    "try:\n",
    "    conn = http.client.HTTPSConnection('eastus.api.cognitive.microsoft.com')\n",
    "    conn.request(\"POST\", \"/customvision/v3.0/Prediction/6de7e2c3-e4d2-4b93-83e4-aa32f8aa87f9/classify/iterations/Iteration1/url?%s\" % params, '{\"Url\": \"http://www.haipic.com/icon/55035/55035.png\"}', headers)\n",
    "    response = conn.getresponse()\n",
    "    data = response.read()\n",
    "    print(data)\n",
    "    conn.close()\n",
    "except Exception as e:\n",
    "    print(\"[Errno {0}] {1}\".format(e.errno, e.strerror))\n"
   ]
  },
  {
   "cell_type": "code",
   "execution_count": null,
   "metadata": {},
   "outputs": [],
   "source": []
  },
  {
   "cell_type": "code",
   "execution_count": null,
   "metadata": {},
   "outputs": [],
   "source": []
  }
 ],
 "metadata": {
  "kernelspec": {
   "display_name": "Python 3",
   "language": "python",
   "name": "python3"
  },
  "language_info": {
   "codemirror_mode": {
    "name": "ipython",
    "version": 3
   },
   "file_extension": ".py",
   "mimetype": "text/x-python",
   "name": "python",
   "nbconvert_exporter": "python",
   "pygments_lexer": "ipython3",
   "version": "3.7.4"
  }
 },
 "nbformat": 4,
 "nbformat_minor": 2
}
