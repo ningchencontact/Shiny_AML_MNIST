{
 "cells": [
  {
   "cell_type": "markdown",
   "metadata": {},
   "source": [
    "If you have an image file:\n",
    "https://shuclasscustomvision.cognitiveservices.azure.com/customvision/v3.0/Prediction/6de7e2c3-e4d2-4b93-83e4-aa32f8aa87f9/classify/iterations/Iteration1/image\n",
    "Set Prediction-Key Header to : 58f227639456446c83d1b49c85089b2f\n",
    "Set Content-Type Header to : application/octet-stream\n",
    "Set Body to : <image file>"
   ]
  },
  {
   "cell_type": "code",
   "execution_count": 6,
   "metadata": {},
   "outputs": [],
   "source": [
    "import http.client, urllib.request, urllib.parse, urllib.error, base64"
   ]
  },
  {
   "cell_type": "code",
   "execution_count": null,
   "metadata": {},
   "outputs": [],
   "source": [
    "\n",
    "headers = {\n",
    "    # Request headers\n",
    "    'Prediction-Key': '58f227639456446c83d1b49c85089b2f',\n",
    "    'Content-Type': 'multipart/form-data',\n",
    "    'Prediction-key': 'https://shuclasscustomvision.cognitiveservices.azure.com/customvision/v3.0/Prediction/6de7e2c3-e4d2-4b93-83e4-aa32f8aa87f9/classify/iterations/Iteration1/image',\n",
    "}\n",
    "\n",
    "params = urllib.parse.urlencode({\n",
    "    # Request parameters\n",
    "    'application': 'application/octet-stream',\n",
    "})\n",
    "\n",
    "try:\n",
    "    conn = http.client.HTTPSConnection('southcentralus.api.cognitive.microsoft.com')\n",
    "    conn.request(\"POST\", \"/customvision/v3.0/Prediction/{projectId}/classify/iterations/{publishedName}/image?%s\" % params, \"{body}\", headers)\n",
    "    response = conn.getresponse()\n",
    "    data = response.read()\n",
    "    print(data)\n",
    "    conn.close()\n",
    "except Exception as e:\n",
    "    print(\"[Errno {0}] {1}\".format(e.errno, e.strerror))\n"
   ]
  }
 ],
 "metadata": {
  "kernelspec": {
   "display_name": "Python 3",
   "language": "python",
   "name": "python3"
  },
  "language_info": {
   "codemirror_mode": {
    "name": "ipython",
    "version": 3
   },
   "file_extension": ".py",
   "mimetype": "text/x-python",
   "name": "python",
   "nbconvert_exporter": "python",
   "pygments_lexer": "ipython3",
   "version": "3.7.4"
  }
 },
 "nbformat": 4,
 "nbformat_minor": 2
}
